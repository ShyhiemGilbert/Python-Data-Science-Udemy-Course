{
 "cells": [
  {
   "cell_type": "code",
   "execution_count": 1,
   "metadata": {},
   "outputs": [],
   "source": [
    " # Object = Data + Manipulation Operations\n",
    "# Objects belong to a class defining the rules for creating\n",
    "# that object\n",
    "# a certain amount of attributes can be attacted to the object\n",
    "# A method is a consequencal logical sequence that can be\n",
    "# applied to the object "
   ]
  },
  {
   "cell_type": "code",
   "execution_count": null,
   "metadata": {},
   "outputs": [],
   "source": [
    "# Function\n",
    "# can have many parameters of many data types\n",
    "# exists on its own\n",
    "# function()\n",
    "\n",
    "# Object\n",
    "# The object is one of its parameters\n",
    "# belongs to a certain class\n",
    "# object.method()"
   ]
  }
 ],
 "metadata": {
  "kernelspec": {
   "display_name": "Python 3",
   "language": "python",
   "name": "python3"
  },
  "language_info": {
   "codemirror_mode": {
    "name": "ipython",
    "version": 3
   },
   "file_extension": ".py",
   "mimetype": "text/x-python",
   "name": "python",
   "nbconvert_exporter": "python",
   "pygments_lexer": "ipython3",
   "version": "3.8.5"
  }
 },
 "nbformat": 4,
 "nbformat_minor": 4
}
