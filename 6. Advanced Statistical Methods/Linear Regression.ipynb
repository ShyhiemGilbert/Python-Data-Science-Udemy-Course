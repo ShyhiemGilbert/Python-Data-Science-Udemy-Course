{
 "cells": [
  {
   "cell_type": "raw",
   "metadata": {},
   "source": [
    "# A linear regression is a linear approximation of a casual relationship\n",
    "# between two or more variables"
   ]
  },
  {
   "cell_type": "raw",
   "metadata": {},
   "source": [
    "# process\n",
    "# 1. Get sample data\n",
    "# 2. Design a model that works for that sample\n",
    "# 3. Make predictions for the whole population"
   ]
  },
  {
   "cell_type": "raw",
   "metadata": {},
   "source": [
    "# Dependent variables (predicted) labeled Y\n",
    "# Independent variables (predictors) labelled x1,x2,...,xk\n",
    "\n",
    "# the dependent variable y is a function of the \n",
    "# independent variables x1 to xk"
   ]
  }
 ],
 "metadata": {
  "kernelspec": {
   "display_name": "Python 3",
   "language": "python",
   "name": "python3"
  },
  "language_info": {
   "codemirror_mode": {
    "name": "ipython",
    "version": 3
   },
   "file_extension": ".py",
   "mimetype": "text/x-python",
   "name": "python",
   "nbconvert_exporter": "python",
   "pygments_lexer": "ipython3",
   "version": "3.8.5"
  }
 },
 "nbformat": 4,
 "nbformat_minor": 4
}
