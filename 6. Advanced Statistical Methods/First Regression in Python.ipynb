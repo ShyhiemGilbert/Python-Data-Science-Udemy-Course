{
 "cells": [
  {
   "cell_type": "code",
   "execution_count": 2,
   "metadata": {},
   "outputs": [
    {
     "name": "stderr",
     "output_type": "stream",
     "text": [
      "Matplotlib is building the font cache; this may take a moment.\n"
     ]
    }
   ],
   "source": [
    "# a third party package allowing us to work with multidimensional arrays\n",
    "import numpy as np\n",
    "# Allows us to organise data in a tabular form and to attach \n",
    "# descriptive labels to rows and collumns\n",
    "import pandas as pd\n",
    "import scipy\n",
    "# a package built on top of NumPy and SciPy, which integrates with pandas.\n",
    "# SM provides very good summaries\n",
    "import statsmodels.api as sm\n",
    "# a 2d plotting library specially designed for visualisation \n",
    "# of NumPy computations\n",
    "import matplotlib as plt\n",
    "# Enhances matploblib beauty and style\n",
    "import seaborn as sns\n",
    "# one of the most widely used machine learning libraries\n",
    "import sklearn"
   ]
  },
  {
   "cell_type": "code",
   "execution_count": null,
   "metadata": {},
   "outputs": [],
   "source": []
  }
 ],
 "metadata": {
  "kernelspec": {
   "display_name": "Python 3",
   "language": "python",
   "name": "python3"
  },
  "language_info": {
   "codemirror_mode": {
    "name": "ipython",
    "version": 3
   },
   "file_extension": ".py",
   "mimetype": "text/x-python",
   "name": "python",
   "nbconvert_exporter": "python",
   "pygments_lexer": "ipython3",
   "version": "3.8.5"
  }
 },
 "nbformat": 4,
 "nbformat_minor": 4
}
